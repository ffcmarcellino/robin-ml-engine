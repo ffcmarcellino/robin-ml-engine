{
  "nbformat": 4,
  "nbformat_minor": 0,
  "metadata": {
    "kernelspec": {
      "name": "python3",
      "display_name": "Python 3"
    },
    "language_info": {
      "name": "python",
      "version": "3.6.4",
      "mimetype": "text/x-python",
      "codemirror_mode": {
        "name": "ipython",
        "version": 3
      },
      "pygments_lexer": "ipython3",
      "nbconvert_exporter": "python",
      "file_extension": ".py"
    },
    "colab": {
      "name": "CNN.ipynb",
      "provenance": [],
      "collapsed_sections": [],
      "machine_shape": "hm"
    },
    "accelerator": "TPU"
  },
  "cells": [
    {
      "cell_type": "code",
      "metadata": {
        "_uuid": "8f2839f25d086af736a60e9eeb907d3b93b6e0e5",
        "_cell_guid": "b1076dfc-b9ad-4769-8c92-a6c4dae69d19",
        "trusted": true,
        "colab_type": "code",
        "outputId": "381c5f09-7f79-4faf-fda9-150d35e61df6",
        "id": "2eQycD-XdqHs",
        "colab": {
          "base_uri": "https://localhost:8080/",
          "height": 143
        }
      },
      "source": [
        "import numpy as np\n",
        "import cv2\n",
        "import os\n",
        "from keras.callbacks import ModelCheckpoint,EarlyStopping\n",
        "from keras.layers import Conv2D, Flatten, MaxPooling2D,Dense,Dropout,SpatialDropout2D\n",
        "from keras.models  import Sequential, load_model\n",
        "from keras.preprocessing.image import ImageDataGenerator, img_to_array, load_img, array_to_img\n",
        "import random,os,glob\n",
        "import matplotlib.pyplot as plt\n",
        "from google.colab import drive\n",
        "drive.mount('/content/gdrive', force_remount=True)"
      ],
      "execution_count": 0,
      "outputs": [
        {
          "output_type": "stream",
          "text": [
            "Using TensorFlow backend.\n"
          ],
          "name": "stderr"
        },
        {
          "output_type": "stream",
          "text": [
            "Go to this URL in a browser: https://accounts.google.com/o/oauth2/auth?client_id=947318989803-6bn6qk8qdgf4n4g3pfee6491hc0brc4i.apps.googleusercontent.com&redirect_uri=urn%3aietf%3awg%3aoauth%3a2.0%3aoob&response_type=code&scope=email%20https%3a%2f%2fwww.googleapis.com%2fauth%2fdocs.test%20https%3a%2f%2fwww.googleapis.com%2fauth%2fdrive%20https%3a%2f%2fwww.googleapis.com%2fauth%2fdrive.photos.readonly%20https%3a%2f%2fwww.googleapis.com%2fauth%2fpeopleapi.readonly\n",
            "\n",
            "Enter your authorization code:\n",
            "··········\n",
            "Mounted at /content/gdrive\n"
          ],
          "name": "stdout"
        }
      ]
    },
    {
      "cell_type": "code",
      "metadata": {
        "id": "i1R8W25MZ8Ji",
        "colab_type": "code",
        "colab": {}
      },
      "source": [
        "##################\n",
        "#for Francesco \n",
        "train_dir = \"gdrive/My Drive/IEOR SQUAD/242/Final Project/242 Final Models/data/train/\"\n",
        "test_dir = 'gdrive/My Drive/IEOR SQUAD/242/Final Project/242 Final Models/data/test/'\n",
        "valid_dir = 'gdrive/My Drive/IEOR SQUAD/242/Final Project/242 Final Models/data/validation/'"
      ],
      "execution_count": 0,
      "outputs": []
    },
    {
      "cell_type": "code",
      "metadata": {
        "_cell_guid": "79c7e3d0-c299-4dcb-8224-4455121ee9b0",
        "_uuid": "d629ff2d2480ee46fbb7e2d37f6b5fab8052498a",
        "trusted": true,
        "id": "LpXMMnP0MFoJ",
        "colab_type": "code",
        "colab": {}
      },
      "source": [
        "###################\n",
        "#for Fellipe\n",
        "train_dir = \"gdrive/My Drive/data/train/\"\n",
        "test_dir = 'gdrive/My Drive/data/test/'\n",
        "valid_dir = 'gdrive/My Drive/data/valid/'"
      ],
      "execution_count": 0,
      "outputs": []
    },
    {
      "cell_type": "code",
      "metadata": {
        "trusted": true,
        "id": "0UjMqB1hMFoL",
        "colab_type": "code",
        "outputId": "ee60d6a8-2fc7-478d-d9c9-5a1a94ba2ecf",
        "colab": {
          "base_uri": "https://localhost:8080/",
          "height": 70
        }
      },
      "source": [
        "train_list = glob.glob(os.path.join(train_dir, '*/*.jpg'))\n",
        "test_list = glob.glob(os.path.join(test_dir, '*/*.jpg'))\n",
        "valid_list = glob.glob(os.path.join(valid_dir, '*/*.jpg'))\n",
        "\n",
        "##importing images into an array\n",
        "print(len(train_list))\n",
        "print(len(test_list))\n",
        "print(len(valid_list))\n"
      ],
      "execution_count": 0,
      "outputs": [
        {
          "output_type": "stream",
          "text": [
            "1252\n",
            "643\n",
            "632\n"
          ],
          "name": "stdout"
        }
      ]
    },
    {
      "cell_type": "code",
      "metadata": {
        "trusted": true,
        "id": "M4b3SlX7MFoR",
        "colab_type": "code",
        "outputId": "2b23628b-5ccb-40e2-c118-a9ac6616f79c",
        "colab": {
          "base_uri": "https://localhost:8080/",
          "height": 70
        }
      },
      "source": [
        "'''Image Pre-Proccesing'''\n",
        "\n",
        "train_datagen = ImageDataGenerator(horizontal_flip=True,\n",
        "                         vertical_flip=True,\n",
        "                         rescale=1./255,\n",
        "                         zoom_range = 0.1,\n",
        "                         width_shift_range = 0.1,\n",
        "                         height_shift_range = 0.1)\n",
        "\n",
        "test_datagen = ImageDataGenerator(rescale=1./255)\n",
        "\n",
        "valid_datagen = ImageDataGenerator(rescale=1./255)\n",
        "\n",
        "\n",
        "train_generator = train_datagen.flow_from_directory(\n",
        "        train_dir,\n",
        "        target_size=(200, 200),\n",
        "        batch_size=32,\n",
        "        class_mode='categorical')\n",
        "\n",
        "validation_generator = test_datagen.flow_from_directory(\n",
        "        valid_dir,\n",
        "        target_size=(200, 200),\n",
        "        batch_size=32,\n",
        "        class_mode='categorical',\n",
        "        shuffle = False)\n",
        "\n",
        "test_generator = test_datagen.flow_from_directory(\n",
        "        test_dir,\n",
        "        target_size=(200, 200),\n",
        "        batch_size=32,\n",
        "        class_mode='categorical',\n",
        "        shuffle = False)\n"
      ],
      "execution_count": 0,
      "outputs": [
        {
          "output_type": "stream",
          "text": [
            "Found 1252 images belonging to 6 classes.\n",
            "Found 632 images belonging to 6 classes.\n",
            "Found 643 images belonging to 6 classes.\n"
          ],
          "name": "stdout"
        }
      ]
    },
    {
      "cell_type": "code",
      "metadata": {
        "trusted": true,
        "id": "5ro-vk0uMFoY",
        "colab_type": "code",
        "colab": {}
      },
      "source": [
        "model=Sequential()\n",
        "#Convolution blocks\n",
        "\n",
        "#Three Pooling layers provide an approach to down sampling feature maps by summarizing the presence of features in patches of the feature map.\n",
        "# Three 2D convolution layer (e.g. spatial convolution over images).\n",
        "model.add(Conv2D(32,(3,3), padding='same',input_shape=(200,200,3),activation='relu'))\n",
        "model.add(MaxPooling2D(pool_size=2)) \n",
        "\n",
        "model.add(Conv2D(64,(3,3), padding='same',activation='relu'))\n",
        "model.add(MaxPooling2D(pool_size=2)) \n",
        "\n",
        "model.add(Conv2D(32,(3,3), padding='same',activation='relu'))\n",
        "model.add(MaxPooling2D(pool_size=2)) \n",
        "\n",
        "#Classification layers\n",
        "model.add(Flatten())\n",
        "\n",
        "model.add(Dense(64,activation='relu'))\n",
        "model.add(Dense(32,activation='relu'))\n",
        "model.add(Dense(6,activation='softmax'))\n",
        "\n",
        "#Three fully Connected (dense) Layers\n"
      ],
      "execution_count": 0,
      "outputs": []
    },
    {
      "cell_type": "code",
      "metadata": {
        "trusted": true,
        "id": "N28av6O_MFoc",
        "colab_type": "code",
        "outputId": "a1ebc903-53ad-451e-ec99-924d9fca966b",
        "colab": {
          "base_uri": "https://localhost:8080/",
          "height": 514
        }
      },
      "source": [
        "model.summary()"
      ],
      "execution_count": 0,
      "outputs": [
        {
          "output_type": "stream",
          "text": [
            "Model: \"sequential_3\"\n",
            "_________________________________________________________________\n",
            "Layer (type)                 Output Shape              Param #   \n",
            "=================================================================\n",
            "conv2d_7 (Conv2D)            (None, 200, 200, 32)      896       \n",
            "_________________________________________________________________\n",
            "max_pooling2d_7 (MaxPooling2 (None, 100, 100, 32)      0         \n",
            "_________________________________________________________________\n",
            "conv2d_8 (Conv2D)            (None, 100, 100, 64)      18496     \n",
            "_________________________________________________________________\n",
            "max_pooling2d_8 (MaxPooling2 (None, 50, 50, 64)        0         \n",
            "_________________________________________________________________\n",
            "conv2d_9 (Conv2D)            (None, 50, 50, 32)        18464     \n",
            "_________________________________________________________________\n",
            "max_pooling2d_9 (MaxPooling2 (None, 25, 25, 32)        0         \n",
            "_________________________________________________________________\n",
            "flatten_3 (Flatten)          (None, 20000)             0         \n",
            "_________________________________________________________________\n",
            "dense_7 (Dense)              (None, 64)                1280064   \n",
            "_________________________________________________________________\n",
            "dense_8 (Dense)              (None, 32)                2080      \n",
            "_________________________________________________________________\n",
            "dense_9 (Dense)              (None, 6)                 198       \n",
            "=================================================================\n",
            "Total params: 1,320,198\n",
            "Trainable params: 1,320,198\n",
            "Non-trainable params: 0\n",
            "_________________________________________________________________\n"
          ],
          "name": "stdout"
        }
      ]
    },
    {
      "cell_type": "code",
      "metadata": {
        "trusted": true,
        "id": "UBS4TAJ1MFof",
        "colab_type": "code",
        "colab": {}
      },
      "source": [
        "model.compile(loss='categorical_crossentropy',\n",
        "              optimizer='adam',\n",
        "              metrics=['acc']) # RMS PROP - No accuracy"
      ],
      "execution_count": 0,
      "outputs": []
    },
    {
      "cell_type": "code",
      "metadata": {
        "trusted": true,
        "id": "ejz7lQhMMFoi",
        "colab_type": "code",
        "outputId": "ee1f0e95-0fe1-4a7e-beaf-5439d2e93418",
        "colab": {
          "base_uri": "https://localhost:8080/",
          "height": 1000
        }
      },
      "source": [
        "history = model.fit_generator(\n",
        "        train_generator,\n",
        "        steps_per_epoch=len(train_list) // 32,\n",
        "        epochs=80,\n",
        "        validation_data=validation_generator)"
      ],
      "execution_count": 0,
      "outputs": [
        {
          "output_type": "stream",
          "text": [
            "Epoch 1/80\n",
            "39/39 [==============================] - 22s 556ms/step - loss: 1.6864 - acc: 0.2747 - val_loss: 1.4737 - val_acc: 0.3972\n",
            "Epoch 2/80\n",
            "39/39 [==============================] - 21s 541ms/step - loss: 1.4861 - acc: 0.3735 - val_loss: 1.3552 - val_acc: 0.4462\n",
            "Epoch 3/80\n",
            "39/39 [==============================] - 21s 536ms/step - loss: 1.4163 - acc: 0.4209 - val_loss: 1.3189 - val_acc: 0.4509\n",
            "Epoch 4/80\n",
            "39/39 [==============================] - 21s 542ms/step - loss: 1.3903 - acc: 0.4520 - val_loss: 1.3272 - val_acc: 0.4509\n",
            "Epoch 5/80\n",
            "39/39 [==============================] - 20s 520ms/step - loss: 1.3126 - acc: 0.4958 - val_loss: 1.2467 - val_acc: 0.4937\n",
            "Epoch 6/80\n",
            "39/39 [==============================] - 21s 530ms/step - loss: 1.2686 - acc: 0.5104 - val_loss: 1.2201 - val_acc: 0.5127\n",
            "Epoch 7/80\n",
            "39/39 [==============================] - 20s 524ms/step - loss: 1.2576 - acc: 0.5176 - val_loss: 1.1306 - val_acc: 0.5823\n",
            "Epoch 8/80\n",
            "39/39 [==============================] - 20s 513ms/step - loss: 1.2314 - acc: 0.5067 - val_loss: 1.0994 - val_acc: 0.5696\n",
            "Epoch 9/80\n",
            "39/39 [==============================] - 20s 518ms/step - loss: 1.1256 - acc: 0.5641 - val_loss: 1.1979 - val_acc: 0.5301\n",
            "Epoch 10/80\n",
            "39/39 [==============================] - 20s 513ms/step - loss: 1.2191 - acc: 0.5337 - val_loss: 1.1313 - val_acc: 0.5570\n",
            "Epoch 11/80\n",
            "39/39 [==============================] - 20s 517ms/step - loss: 1.0899 - acc: 0.5688 - val_loss: 1.2225 - val_acc: 0.5570\n",
            "Epoch 12/80\n",
            "39/39 [==============================] - 20s 513ms/step - loss: 1.1053 - acc: 0.5657 - val_loss: 1.1880 - val_acc: 0.5585\n",
            "Epoch 13/80\n",
            "39/39 [==============================] - 20s 516ms/step - loss: 1.0700 - acc: 0.5930 - val_loss: 0.9848 - val_acc: 0.6171\n",
            "Epoch 14/80\n",
            "39/39 [==============================] - 20s 516ms/step - loss: 1.0217 - acc: 0.6275 - val_loss: 1.0565 - val_acc: 0.6234\n",
            "Epoch 15/80\n",
            "39/39 [==============================] - 20s 516ms/step - loss: 1.0118 - acc: 0.6065 - val_loss: 1.0698 - val_acc: 0.5823\n",
            "Epoch 16/80\n",
            "39/39 [==============================] - 21s 529ms/step - loss: 0.9707 - acc: 0.6410 - val_loss: 0.9407 - val_acc: 0.6519\n",
            "Epoch 17/80\n",
            "39/39 [==============================] - 20s 514ms/step - loss: 1.1013 - acc: 0.5731 - val_loss: 1.1021 - val_acc: 0.5981\n",
            "Epoch 18/80\n",
            "39/39 [==============================] - 20s 507ms/step - loss: 0.9796 - acc: 0.6311 - val_loss: 1.0128 - val_acc: 0.6361\n",
            "Epoch 19/80\n",
            "39/39 [==============================] - 20s 517ms/step - loss: 0.8470 - acc: 0.6849 - val_loss: 0.9636 - val_acc: 0.6677\n",
            "Epoch 20/80\n",
            "39/39 [==============================] - 21s 534ms/step - loss: 0.9351 - acc: 0.6643 - val_loss: 0.9821 - val_acc: 0.6472\n",
            "Epoch 21/80\n",
            "39/39 [==============================] - 20s 505ms/step - loss: 0.8964 - acc: 0.6626 - val_loss: 1.0032 - val_acc: 0.6408\n",
            "Epoch 22/80\n",
            "39/39 [==============================] - 21s 527ms/step - loss: 0.9152 - acc: 0.6627 - val_loss: 0.9846 - val_acc: 0.6646\n",
            "Epoch 23/80\n",
            "39/39 [==============================] - 20s 521ms/step - loss: 0.8956 - acc: 0.6674 - val_loss: 1.0333 - val_acc: 0.6424\n",
            "Epoch 24/80\n",
            "39/39 [==============================] - 20s 509ms/step - loss: 0.8067 - acc: 0.7195 - val_loss: 0.9173 - val_acc: 0.6756\n",
            "Epoch 25/80\n",
            "39/39 [==============================] - 21s 527ms/step - loss: 0.8160 - acc: 0.6907 - val_loss: 0.9338 - val_acc: 0.6392\n",
            "Epoch 26/80\n",
            "39/39 [==============================] - 20s 512ms/step - loss: 0.7332 - acc: 0.7234 - val_loss: 0.8580 - val_acc: 0.7009\n",
            "Epoch 27/80\n",
            "39/39 [==============================] - 20s 515ms/step - loss: 0.7220 - acc: 0.7373 - val_loss: 0.8914 - val_acc: 0.7057\n",
            "Epoch 28/80\n",
            "39/39 [==============================] - 20s 519ms/step - loss: 0.7285 - acc: 0.7365 - val_loss: 0.9149 - val_acc: 0.6851\n",
            "Epoch 29/80\n",
            "39/39 [==============================] - 20s 504ms/step - loss: 0.7324 - acc: 0.7254 - val_loss: 1.0328 - val_acc: 0.6535\n",
            "Epoch 30/80\n",
            "39/39 [==============================] - 21s 534ms/step - loss: 0.6770 - acc: 0.7580 - val_loss: 0.8819 - val_acc: 0.7184\n",
            "Epoch 31/80\n",
            "39/39 [==============================] - 20s 517ms/step - loss: 0.6728 - acc: 0.7779 - val_loss: 1.0248 - val_acc: 0.6472\n",
            "Epoch 32/80\n",
            "39/39 [==============================] - 20s 519ms/step - loss: 0.9721 - acc: 0.6368 - val_loss: 1.0215 - val_acc: 0.6155\n",
            "Epoch 33/80\n",
            "39/39 [==============================] - 20s 517ms/step - loss: 0.6810 - acc: 0.7580 - val_loss: 0.8515 - val_acc: 0.7152\n",
            "Epoch 34/80\n",
            "39/39 [==============================] - 20s 523ms/step - loss: 0.8148 - acc: 0.7036 - val_loss: 1.0026 - val_acc: 0.6915\n",
            "Epoch 35/80\n",
            "39/39 [==============================] - 21s 533ms/step - loss: 0.6996 - acc: 0.7444 - val_loss: 0.9388 - val_acc: 0.6535\n",
            "Epoch 36/80\n",
            "39/39 [==============================] - 20s 520ms/step - loss: 0.6405 - acc: 0.7694 - val_loss: 0.9789 - val_acc: 0.6630\n",
            "Epoch 37/80\n",
            "39/39 [==============================] - 20s 503ms/step - loss: 0.6223 - acc: 0.7757 - val_loss: 0.8483 - val_acc: 0.7120\n",
            "Epoch 38/80\n",
            "39/39 [==============================] - 21s 529ms/step - loss: 0.6828 - acc: 0.7588 - val_loss: 0.9140 - val_acc: 0.6883\n",
            "Epoch 39/80\n",
            "39/39 [==============================] - 20s 520ms/step - loss: 0.7042 - acc: 0.7564 - val_loss: 0.9965 - val_acc: 0.6630\n",
            "Epoch 40/80\n",
            "39/39 [==============================] - 20s 518ms/step - loss: 0.6036 - acc: 0.7899 - val_loss: 0.8433 - val_acc: 0.7041\n",
            "Epoch 41/80\n",
            "39/39 [==============================] - 20s 516ms/step - loss: 0.5929 - acc: 0.7877 - val_loss: 0.9754 - val_acc: 0.6772\n",
            "Epoch 42/80\n",
            "39/39 [==============================] - 21s 536ms/step - loss: 0.5884 - acc: 0.7861 - val_loss: 0.9650 - val_acc: 0.6883\n",
            "Epoch 43/80\n",
            "39/39 [==============================] - 21s 533ms/step - loss: 0.6611 - acc: 0.7583 - val_loss: 0.9057 - val_acc: 0.6899\n",
            "Epoch 44/80\n",
            "39/39 [==============================] - 21s 531ms/step - loss: 0.5417 - acc: 0.8108 - val_loss: 0.8610 - val_acc: 0.7247\n",
            "Epoch 45/80\n",
            "39/39 [==============================] - 21s 526ms/step - loss: 0.5354 - acc: 0.8268 - val_loss: 0.9012 - val_acc: 0.7120\n",
            "Epoch 46/80\n",
            "39/39 [==============================] - 20s 521ms/step - loss: 0.5494 - acc: 0.8125 - val_loss: 0.8571 - val_acc: 0.7136\n",
            "Epoch 47/80\n",
            "39/39 [==============================] - 21s 533ms/step - loss: 0.5136 - acc: 0.8213 - val_loss: 0.9226 - val_acc: 0.7199\n",
            "Epoch 48/80\n",
            "39/39 [==============================] - 20s 523ms/step - loss: 0.5363 - acc: 0.8037 - val_loss: 0.8699 - val_acc: 0.7041\n",
            "Epoch 49/80\n",
            "39/39 [==============================] - 20s 518ms/step - loss: 0.5423 - acc: 0.8092 - val_loss: 0.9687 - val_acc: 0.7120\n",
            "Epoch 50/80\n",
            "39/39 [==============================] - 21s 538ms/step - loss: 0.5880 - acc: 0.7846 - val_loss: 1.1122 - val_acc: 0.6614\n",
            "Epoch 51/80\n",
            "39/39 [==============================] - 21s 528ms/step - loss: 0.5327 - acc: 0.8060 - val_loss: 1.0341 - val_acc: 0.6978\n",
            "Epoch 52/80\n",
            "39/39 [==============================] - 20s 523ms/step - loss: 0.5149 - acc: 0.8181 - val_loss: 0.9857 - val_acc: 0.7120\n",
            "Epoch 53/80\n",
            "39/39 [==============================] - 21s 534ms/step - loss: 0.4827 - acc: 0.8245 - val_loss: 0.8905 - val_acc: 0.7437\n",
            "Epoch 54/80\n",
            "39/39 [==============================] - 20s 520ms/step - loss: 0.5469 - acc: 0.7885 - val_loss: 1.0108 - val_acc: 0.7073\n",
            "Epoch 55/80\n",
            "39/39 [==============================] - 21s 526ms/step - loss: 0.4909 - acc: 0.8157 - val_loss: 0.8921 - val_acc: 0.7294\n",
            "Epoch 56/80\n",
            "39/39 [==============================] - 20s 519ms/step - loss: 0.4413 - acc: 0.8358 - val_loss: 0.9009 - val_acc: 0.7326\n",
            "Epoch 57/80\n",
            "39/39 [==============================] - 20s 511ms/step - loss: 0.4915 - acc: 0.8390 - val_loss: 0.9267 - val_acc: 0.7168\n",
            "Epoch 58/80\n",
            "39/39 [==============================] - 21s 537ms/step - loss: 0.4678 - acc: 0.8373 - val_loss: 1.0318 - val_acc: 0.7120\n",
            "Epoch 59/80\n",
            "39/39 [==============================] - 20s 512ms/step - loss: 0.4678 - acc: 0.8293 - val_loss: 0.7931 - val_acc: 0.7500\n",
            "Epoch 60/80\n",
            "39/39 [==============================] - 20s 522ms/step - loss: 0.4612 - acc: 0.8382 - val_loss: 0.8924 - val_acc: 0.7231\n",
            "Epoch 61/80\n",
            "39/39 [==============================] - 21s 529ms/step - loss: 0.3977 - acc: 0.8549 - val_loss: 0.8593 - val_acc: 0.7453\n",
            "Epoch 62/80\n",
            "39/39 [==============================] - 20s 518ms/step - loss: 0.3735 - acc: 0.8630 - val_loss: 0.9767 - val_acc: 0.7041\n",
            "Epoch 63/80\n",
            "39/39 [==============================] - 21s 529ms/step - loss: 0.5940 - acc: 0.8039 - val_loss: 1.0422 - val_acc: 0.6788\n",
            "Epoch 64/80\n",
            "39/39 [==============================] - 21s 542ms/step - loss: 0.4176 - acc: 0.8582 - val_loss: 0.8606 - val_acc: 0.7405\n",
            "Epoch 65/80\n",
            "39/39 [==============================] - 21s 530ms/step - loss: 0.3528 - acc: 0.8695 - val_loss: 0.8773 - val_acc: 0.7358\n",
            "Epoch 66/80\n",
            "39/39 [==============================] - 21s 530ms/step - loss: 0.3739 - acc: 0.8685 - val_loss: 0.9121 - val_acc: 0.7453\n",
            "Epoch 67/80\n",
            "39/39 [==============================] - 21s 529ms/step - loss: 0.3734 - acc: 0.8685 - val_loss: 0.8268 - val_acc: 0.7547\n",
            "Epoch 68/80\n",
            "39/39 [==============================] - 20s 523ms/step - loss: 0.3418 - acc: 0.8757 - val_loss: 0.9169 - val_acc: 0.7342\n",
            "Epoch 69/80\n",
            "39/39 [==============================] - 21s 526ms/step - loss: 0.3495 - acc: 0.8829 - val_loss: 1.0230 - val_acc: 0.7247\n",
            "Epoch 70/80\n",
            "39/39 [==============================] - 20s 523ms/step - loss: 0.3463 - acc: 0.8751 - val_loss: 0.9242 - val_acc: 0.7500\n",
            "Epoch 71/80\n",
            "39/39 [==============================] - 20s 522ms/step - loss: 0.3982 - acc: 0.8533 - val_loss: 1.0550 - val_acc: 0.7184\n",
            "Epoch 72/80\n",
            "39/39 [==============================] - 20s 519ms/step - loss: 0.4852 - acc: 0.8316 - val_loss: 0.8936 - val_acc: 0.7468\n",
            "Epoch 73/80\n",
            "39/39 [==============================] - 20s 523ms/step - loss: 0.3533 - acc: 0.8725 - val_loss: 0.9804 - val_acc: 0.7532\n",
            "Epoch 74/80\n",
            "39/39 [==============================] - 20s 524ms/step - loss: 0.3081 - acc: 0.9022 - val_loss: 0.9041 - val_acc: 0.7674\n",
            "Epoch 75/80\n",
            "39/39 [==============================] - 21s 527ms/step - loss: 0.3259 - acc: 0.8821 - val_loss: 0.9863 - val_acc: 0.7326\n",
            "Epoch 76/80\n",
            "39/39 [==============================] - 20s 522ms/step - loss: 0.3182 - acc: 0.8902 - val_loss: 1.0454 - val_acc: 0.7231\n",
            "Epoch 77/80\n",
            "39/39 [==============================] - 21s 528ms/step - loss: 0.4104 - acc: 0.8517 - val_loss: 1.0864 - val_acc: 0.6994\n",
            "Epoch 78/80\n",
            "39/39 [==============================] - 20s 524ms/step - loss: 0.3119 - acc: 0.8797 - val_loss: 0.9384 - val_acc: 0.7563\n",
            "Epoch 79/80\n",
            "39/39 [==============================] - 20s 523ms/step - loss: 0.3008 - acc: 0.8958 - val_loss: 0.8942 - val_acc: 0.7453\n",
            "Epoch 80/80\n",
            "39/39 [==============================] - 21s 540ms/step - loss: 0.3337 - acc: 0.8829 - val_loss: 0.9708 - val_acc: 0.7595\n"
          ],
          "name": "stdout"
        }
      ]
    },
    {
      "cell_type": "code",
      "metadata": {
        "id": "W6An0ajpWcVQ",
        "colab_type": "code",
        "colab": {}
      },
      "source": [
        "# for Fellipe\n",
        "model.save_weights(\"gdrive/My Drive/data/models/cnn.h5\")"
      ],
      "execution_count": 0,
      "outputs": []
    },
    {
      "cell_type": "code",
      "metadata": {
        "id": "METXccaQadkH",
        "colab_type": "code",
        "outputId": "2aba2a20-ef65-4bf3-c690-ff3cf5e7bdd3",
        "colab": {
          "base_uri": "https://localhost:8080/",
          "height": 248
        }
      },
      "source": [
        "############\n",
        "#for Francesco \n",
        "model.load_weights(\"gdrive/My Drive/IEOR SQUAD/242/Final Project/242 Final Models/data/model.h5\")\n"
      ],
      "execution_count": 0,
      "outputs": [
        {
          "output_type": "stream",
          "text": [
            "WARNING:tensorflow:From /usr/local/lib/python3.6/dist-packages/keras/backend/tensorflow_backend.py:190: The name tf.get_default_session is deprecated. Please use tf.compat.v1.get_default_session instead.\n",
            "\n",
            "WARNING:tensorflow:From /usr/local/lib/python3.6/dist-packages/keras/backend/tensorflow_backend.py:197: The name tf.ConfigProto is deprecated. Please use tf.compat.v1.ConfigProto instead.\n",
            "\n",
            "WARNING:tensorflow:From /usr/local/lib/python3.6/dist-packages/keras/backend/tensorflow_backend.py:203: The name tf.Session is deprecated. Please use tf.compat.v1.Session instead.\n",
            "\n",
            "WARNING:tensorflow:From /usr/local/lib/python3.6/dist-packages/keras/backend/tensorflow_backend.py:207: The name tf.global_variables is deprecated. Please use tf.compat.v1.global_variables instead.\n",
            "\n",
            "WARNING:tensorflow:From /usr/local/lib/python3.6/dist-packages/keras/backend/tensorflow_backend.py:216: The name tf.is_variable_initialized is deprecated. Please use tf.compat.v1.is_variable_initialized instead.\n",
            "\n",
            "WARNING:tensorflow:From /usr/local/lib/python3.6/dist-packages/keras/backend/tensorflow_backend.py:223: The name tf.variables_initializer is deprecated. Please use tf.compat.v1.variables_initializer instead.\n",
            "\n"
          ],
          "name": "stdout"
        }
      ]
    },
    {
      "cell_type": "code",
      "metadata": {
        "id": "_xCcbyMqEuRX",
        "colab_type": "code",
        "colab": {}
      },
      "source": [
        "##########\n",
        "#Fellipe\n",
        "model.load_weights(\"gdrive/My Drive/data/model/cnn.h5\")"
      ],
      "execution_count": 0,
      "outputs": []
    },
    {
      "cell_type": "code",
      "metadata": {
        "id": "oUJ6bRpEC3X1",
        "colab_type": "code",
        "colab": {}
      },
      "source": [
        "print(len(validation_generator.classes),len(y_pred))\n",
        "print(len(valid_list))\n",
        "print(len(test_generator))\n",
        "print(len(test_list) // 32+1)"
      ],
      "execution_count": 0,
      "outputs": []
    },
    {
      "cell_type": "code",
      "metadata": {
        "id": "VcQbKeSdJ1QY",
        "colab_type": "code",
        "outputId": "225efcf2-4ccd-4b49-d312-ed0b8b8d641b",
        "colab": {
          "base_uri": "https://localhost:8080/",
          "height": 52
        }
      },
      "source": [
        "print(model.evaluate_generator(validation_generator))\n",
        "print(model.metrics_names)"
      ],
      "execution_count": 0,
      "outputs": [
        {
          "output_type": "stream",
          "text": [
            "[0.9708007965236902, 0.7594936716405651]\n",
            "['loss', 'acc']\n"
          ],
          "name": "stdout"
        }
      ]
    },
    {
      "cell_type": "code",
      "metadata": {
        "trusted": true,
        "id": "p2hXp0uyMFom",
        "colab_type": "code",
        "outputId": "1ee24f8f-95ce-4b0e-da99-e1342a33d0ac",
        "colab": {
          "base_uri": "https://localhost:8080/",
          "height": 52
        }
      },
      "source": [
        "from sklearn.metrics import classification_report, confusion_matrix\n",
        "from mlxtend.plotting import plot_confusion_matrix\n",
        "import pandas as pd \n",
        "import seaborn as sns\n",
        "\n",
        "############\n",
        "#check validation set \n",
        "validation_generator.reset()\n",
        "Y_pred = model.predict_generator(validation_generator)\n",
        "y_pred = np.argmax(Y_pred, axis=1)\n",
        "target_names = ['cardboard', 'glass', 'metal', 'paper', 'plastic', 'trash']\n",
        "cf = confusion_matrix(validation_generator.classes, y_pred)\n",
        "\n",
        "correct = 0\n",
        "for r in range(len(cf)):\n",
        "  for c in range(len(cf)):\n",
        "    if(r==c):\n",
        "      correct += cf[r,c]\n",
        "\n",
        "accuracy = correct/sum(sum(cf))\n",
        "print(accuracy)\n",
        "validation_generator.reset()\n",
        "Y_pred = model.predict(validation_generator)\n",
        "y_pred = np.argmax(Y_pred, axis=1)\n",
        "target_names = ['cardboard', 'glass', 'metal', 'paper', 'plastic', 'trash']\n",
        "cf = confusion_matrix(validation_generator.classes, y_pred)\n",
        "correct = 0\n",
        "for r in range(len(cf)):\n",
        "  for c in range(len(cf)):\n",
        "    if(r==c):\n",
        "      correct += cf[r,c]\n",
        "\n",
        "accuracy = correct/sum(sum(cf))\n",
        "print(accuracy)\n"
      ],
      "execution_count": 0,
      "outputs": [
        {
          "output_type": "stream",
          "text": [
            "0.759493670886076\n",
            "0.759493670886076\n"
          ],
          "name": "stdout"
        }
      ]
    },
    {
      "cell_type": "code",
      "metadata": {
        "id": "RZf2AP92Izei",
        "colab_type": "code",
        "outputId": "67be6cbd-b613-413b-b9ed-ecfdf4722ee9",
        "colab": {
          "base_uri": "https://localhost:8080/",
          "height": 265
        }
      },
      "source": [
        "######### \n",
        "#testing \n",
        "Y_pred = model.predict_generator(test_generator, len(test_list) // 32 +1)\n",
        "y_pred = np.argmax(Y_pred, axis=1)\n",
        "target_names = ['cardboard', 'glass', 'metal', 'paper', 'plastic', 'trash']\n",
        "cf = confusion_matrix(test_generator.classes, y_pred)\n",
        "\n",
        "cm_df = pd.DataFrame(cf,\n",
        "                     index = target_names, \n",
        "                     columns = target_names)\n",
        "\n",
        "\n",
        "\n",
        "print('Classification Report')\n",
        "print(classification_report(test_generator.classes, y_pred, target_names=target_names))"
      ],
      "execution_count": 0,
      "outputs": [
        {
          "output_type": "stream",
          "text": [
            "Classification Report\n",
            "              precision    recall  f1-score   support\n",
            "\n",
            "   cardboard       0.82      0.82      0.82       106\n",
            "       glass       0.66      0.62      0.64       124\n",
            "       metal       0.64      0.63      0.64       106\n",
            "       paper       0.80      0.89      0.84       150\n",
            "     plastic       0.64      0.63      0.64       123\n",
            "       trash       0.62      0.53      0.57        34\n",
            "\n",
            "    accuracy                           0.72       643\n",
            "   macro avg       0.70      0.69      0.69       643\n",
            "weighted avg       0.71      0.72      0.71       643\n",
            "\n"
          ],
          "name": "stdout"
        }
      ]
    },
    {
      "cell_type": "code",
      "metadata": {
        "id": "RWx3fyuSbLIt",
        "colab_type": "code",
        "outputId": "de3032cf-d287-49dd-f13c-6cae2e1973cc",
        "colab": {
          "base_uri": "https://localhost:8080/",
          "height": 387
        }
      },
      "source": [
        "plt.figure(figsize=(7,6))\n",
        "sns.heatmap(cm_df, annot=True)\n",
        "plt.ylabel('True label')\n",
        "plt.xlabel('Predicted label')\n",
        "plt.ylim(len(cf), 0)\n",
        "plt.show()"
      ],
      "execution_count": 0,
      "outputs": [
        {
          "output_type": "display_data",
          "data": {
            "image/png": "[encoded data removed]",
            "text/plain": [
              "<Figure size 504x432 with 2 Axes>"
            ]
          },
          "metadata": {
            "tags": []
          }
        }
      ]
    },
    {
      "cell_type": "code",
      "metadata": {
        "id": "ClOJf1OlAcwW",
        "colab_type": "code",
        "outputId": "0e0cc866-d47f-4d23-c071-28f79ba6ebfe",
        "colab": {
          "base_uri": "https://localhost:8080/",
          "height": 141
        }
      },
      "source": [
        "print(cf)\n",
        "correct = 0\n",
        "\n",
        "for r in range(len(cf)):\n",
        "  for c in range(len(cf)):\n",
        "    if(r==c):\n",
        "      correct += cf[r,c]\n",
        "\n",
        "accuracy = correct/sum(sum(cf))\n",
        "accuracy\n"
      ],
      "execution_count": 0,
      "outputs": [
        {
          "output_type": "stream",
          "text": [
            "[[ 87   3   4   5   6   1]\n",
            " [  3  77  13   7  22   2]\n",
            " [  8  16  67  10   5   0]\n",
            " [  2   3   3 133   8   1]\n",
            " [  4  11  14   9  78   7]\n",
            " [  2   6   3   2   3  18]]\n"
          ],
          "name": "stdout"
        },
        {
          "output_type": "execute_result",
          "data": {
            "text/plain": [
              "0.7153965785381027"
            ]
          },
          "metadata": {
            "tags": []
          },
          "execution_count": 30
        }
      ]
    },
    {
      "cell_type": "code",
      "metadata": {
        "id": "z1LXVG41NItn",
        "colab_type": "code",
        "outputId": "3a341cdf-bc16-4eca-c02f-d5c872db5235",
        "colab": {
          "base_uri": "https://localhost:8080/",
          "height": 52
        }
      },
      "source": [
        "print(model.evaluate_generator(test_generator))\n",
        "print(model.metrics_names)"
      ],
      "execution_count": 0,
      "outputs": [
        {
          "output_type": "stream",
          "text": [
            "[1.0909945351154215, 0.7153965786308004]\n",
            "['loss', 'acc']\n"
          ],
          "name": "stdout"
        }
      ]
    },
    {
      "cell_type": "code",
      "metadata": {
        "id": "gIxMvAJuO9NI",
        "colab_type": "code",
        "colab": {}
      },
      "source": [
        "import numpy as np\n",
        "from scipy.stats import norm\n",
        "\n",
        "def confidence_interval(preds, actual):\n",
        "  pred_actual = (preds == actual)*1\n",
        "  np.random.seed(100)\n",
        "  bootstrap = np.random.choice(pred_actual, size=(len(pred_actual),100), replace=True)\n",
        "  test_acc = np.mean(pred_actual)\n",
        "  bootstrap_dist = bootstrap.mean(axis=0) - test_acc\n",
        "  qu = norm.ppf(0.975)*bootstrap_dist.std() + bootstrap_dist.mean()\n",
        "  ql = norm.ppf(0.025)*bootstrap_dist.std() + bootstrap_dist.mean()\n",
        "  lower_bound = test_acc - qu\n",
        "  upper_bound = test_acc - ql\n",
        "  return (lower_bound, upper_bound)"
      ],
      "execution_count": 0,
      "outputs": []
    },
    {
      "cell_type": "code",
      "metadata": {
        "id": "lFF2jqKYYxve",
        "colab_type": "code",
        "outputId": "9d9bf6dc-ee88-4e12-a8d5-a08916d361a3",
        "colab": {
          "base_uri": "https://localhost:8080/",
          "height": 34
        }
      },
      "source": [
        "confidence_interval(y_pred, test_generator.classes)"
      ],
      "execution_count": 0,
      "outputs": [
        {
          "output_type": "execute_result",
          "data": {
            "text/plain": [
              "(0.6804217008793451, 0.7490650798360516)"
            ]
          },
          "metadata": {
            "tags": []
          },
          "execution_count": 70
        }
      ]
    },
    {
      "cell_type": "code",
      "metadata": {
        "id": "77yuLKOIZe6m",
        "colab_type": "code",
        "colab": {}
      },
      "source": [
        ""
      ],
      "execution_count": 0,
      "outputs": []
    }
  ]
}